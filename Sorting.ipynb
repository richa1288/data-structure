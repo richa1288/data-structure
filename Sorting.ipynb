{
  "nbformat": 4,
  "nbformat_minor": 0,
  "metadata": {
    "colab": {
      "name": "Sorting.ipynb",
      "provenance": [],
      "authorship_tag": "ABX9TyM7yhF4etuQASj+dTED36KM",
      "include_colab_link": true
    },
    "kernelspec": {
      "name": "python3",
      "display_name": "Python 3"
    },
    "language_info": {
      "name": "python"
    }
  },
  "cells": [
    {
      "cell_type": "markdown",
      "metadata": {
        "id": "view-in-github",
        "colab_type": "text"
      },
      "source": [
        "<a href=\"https://colab.research.google.com/github/richa1288/data-structure/blob/main/Sorting.ipynb\" target=\"_parent\"><img src=\"https://colab.research.google.com/assets/colab-badge.svg\" alt=\"Open In Colab\"/></a>"
      ]
    },
    {
      "cell_type": "code",
      "execution_count": null,
      "metadata": {
        "id": "7hkVpf1n6Brx"
      },
      "outputs": [],
      "source": [
        "We need to write a function to sort a list of numbers in increasing order."
      ]
    },
    {
      "cell_type": "code",
      "source": [
        "def sort(nums):\n",
        "    pass\n",
        "# List of numbers in random order\n",
        "test0 = {\n",
        "    'input': {\n",
        "        'nums': [4, 2, 6, 3, 4, 6, 2, 1]\n",
        "    },\n",
        "    'output': [1, 2, 2, 3, 4, 4, 6, 6]\n",
        "}\n",
        "# List of numbers in random order\n",
        "test1 = {\n",
        "    'input': {\n",
        "        'nums': [5, 2, 6, 1, 23, 7, -12, 12, -243, 0]\n",
        "    },\n",
        "    'output': [-243, -12, 0, 1, 2, 5, 6, 7, 12, 23]\n",
        "}\n",
        "# A list that's already sorted\n",
        "test2 = {\n",
        "    'input': {\n",
        "        'nums': [3, 5, 6, 8, 9, 10, 99]\n",
        "    },\n",
        "    'output': [3, 5, 6, 8, 9, 10, 99]\n",
        "}\n",
        "# A list that's sorted in descending order\n",
        "test3 = {\n",
        "    'input': {\n",
        "        'nums': [99, 10, 9, 8, 6, 5, 3]\n",
        "    },\n",
        "    'output': [3, 5, 6, 8, 9, 10, 99]\n",
        "}\n",
        "# A list containing repeating elements\n",
        "test4 = {\n",
        "    'input': {\n",
        "        'nums': [5, -12, 2, 6, 1, 23, 7, 7, -12, 6, 12, 1, -243, 1, 0]\n",
        "    },\n",
        "    'output': [-243, -12, -12, 0, 1, 1, 1, 2, 5, 6, 6, 7, 7, 12, 23]\n",
        "}\n",
        "# An empty list \n",
        "test5 = {\n",
        "    'input': {\n",
        "        'nums': []\n",
        "    },\n",
        "    'output': []\n",
        "}\n",
        "# A list containing just one element\n",
        "test6 = {\n",
        "    'input': {\n",
        "        'nums': [23]\n",
        "    },\n",
        "    'output': [23]\n",
        "}\n",
        "# A list containing one element repeated many times\n",
        "test7 = {\n",
        "    'input': {\n",
        "        'nums': [42, 42, 42, 42, 42, 42, 42]\n",
        "    },\n",
        "    'output': [42, 42, 42, 42, 42, 42, 42]\n",
        "}"
      ],
      "metadata": {
        "id": "QSeeDzw56SfZ"
      },
      "execution_count": null,
      "outputs": []
    },
    {
      "cell_type": "code",
      "source": [
        "import random\n",
        "\n",
        "in_list = list(range(10000))\n",
        "out_list = list(range(10000))\n",
        "random.shuffle(in_list)\n",
        "\n",
        "test8 = {\n",
        "    'input': {\n",
        "        'nums': in_list\n",
        "    },\n",
        "    'output': out_list\n",
        "}"
      ],
      "metadata": {
        "id": "EVHd0VH56lyF"
      },
      "execution_count": null,
      "outputs": []
    },
    {
      "cell_type": "code",
      "source": [
        "def bubble_sort(nums):\n",
        "    # Create a copy of the list, to avoid changing it\n",
        "    nums = list(nums)\n",
        "    \n",
        "    # 4. Repeat the process n-1 times\n",
        "    for _ in range(len(nums) - 1):\n",
        "        \n",
        "        # 1. Iterate over the array (except last element)\n",
        "        for i in range(len(nums) - 1):\n",
        "            \n",
        "            # 2. Compare the number with  \n",
        "            if nums[i] > nums[i+1]:\n",
        "                \n",
        "                # 3. Swap the two elements\n",
        "                nums[i], nums[i+1] = nums[i+1], nums[i]\n",
        "    \n",
        "    # Return the sorted list\n",
        "    return nums\n",
        "\n",
        "\n",
        "nums0, output0 = test0['input']['nums'], test0['output']\n",
        "\n",
        "print('Input:', nums0)\n",
        "print('Expected output:', output0)\n",
        "result0 = bubble_sort(nums0)\n",
        "print('Actual output:', result0)\n",
        "print('Match:', result0 == output0)\n",
        "\n",
        "result0 == output0\n",
        "\n",
        "def insertion_sort(nums):\n",
        "    nums = list(nums)\n",
        "    for i in range(len(nums)):\n",
        "        cur = nums.pop(i)\n",
        "        j = i-1\n",
        "        while j >=0 and nums[j] > cur:\n",
        "            j -= 1\n",
        "        nums.insert(j+1, cur)\n",
        "    return nums            \n",
        "nums0, output0 = test0['input']['nums'], test0['output']\n",
        "\n",
        "print('Input:', nums0)\n",
        "print('Expected output:', output0)\n",
        "result0 = insertion_sort(nums0)\n",
        "print('Actual output:', result0)\n",
        "print('Match:', result0 == output0)\n",
        "\n"
      ],
      "metadata": {
        "id": "G_XSbJWJ6qkh"
      },
      "execution_count": null,
      "outputs": []
    },
    {
      "cell_type": "code",
      "source": [
        "def merge_sort(nums):\n",
        "    # Terminating condition (list of 0 or 1 elements)\n",
        "    if len(nums) <= 1:\n",
        "        return nums\n",
        "    \n",
        "    # Get the midpoint\n",
        "    mid = len(nums) // 2\n",
        "    \n",
        "    # Split the list into two halves\n",
        "    left = nums[:mid]\n",
        "    right = nums[mid:]\n",
        "    \n",
        "    # Solve the problem for each half recursively\n",
        "    left_sorted, right_sorted = merge_sort(left), merge_sort(right)\n",
        "    \n",
        "    # Combine the results of the two halves\n",
        "    sorted_nums =  merge(left_sorted, right_sorted)\n",
        "    \n",
        "    return sorted_nums"
      ],
      "metadata": {
        "id": "cQwM-usZ84UL"
      },
      "execution_count": null,
      "outputs": []
    },
    {
      "cell_type": "code",
      "source": [
        "def merge(nums1, nums2):    \n",
        "    # List to store the results \n",
        "    merged = []\n",
        "    \n",
        "    # Indices for iteration\n",
        "    i, j = 0, 0\n",
        "    \n",
        "    # Loop over the two lists\n",
        "    while i < len(nums1) and j < len(nums2):        \n",
        "        \n",
        "        # Include the smaller element in the result and move to next element\n",
        "        if nums1[i] <= nums2[j]:\n",
        "            merged.append(nums1[i])\n",
        "            i += 1 \n",
        "        else:\n",
        "            merged.append(nums2[j])\n",
        "            j += 1\n",
        "    \n",
        "    # Get the remaining parts\n",
        "    nums1_tail = nums1[i:]\n",
        "    nums2_tail = nums2[j:]\n",
        "    \n",
        "    # Return the final merged array\n",
        "    return merged + nums1_tail + nums2_tail\n",
        "Let's test the merge operation, before we test merge sort.\n",
        "\n",
        "merge([1, 4, 7, 9, 11], [-1, 0, 2, 3, 8, 12])\n",
        "It seems to work as expected. We can now test the merge_sort function.\n",
        "\n",
        "nums0, output0 = test0['input']['nums'], test0['output']\n",
        "\n",
        "print('Input:', nums0)\n",
        "print('Expected output:', output0)\n",
        "result0 = merge_sort(nums0)\n",
        "print('Actual output:', result0)\n",
        "print('Match:', result0 == output0)\n",
        "Let's test all the cases using the evaluate_test_cases function from jovian.\n",
        "\n",
        "results = evaluate_test_cases(merge_sort, tests)"
      ],
      "metadata": {
        "id": "1HmGP0rj8_Kf"
      },
      "execution_count": null,
      "outputs": []
    }
  ]
}