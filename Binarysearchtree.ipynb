{
  "nbformat": 4,
  "nbformat_minor": 0,
  "metadata": {
    "colab": {
      "name": "Binarysearchtree.ipynb",
      "provenance": [],
      "authorship_tag": "ABX9TyMjNjbykVwkCc/1/rlsS7ml",
      "include_colab_link": true
    },
    "kernelspec": {
      "name": "python3",
      "display_name": "Python 3"
    },
    "language_info": {
      "name": "python"
    }
  },
  "cells": [
    {
      "cell_type": "markdown",
      "metadata": {
        "id": "view-in-github",
        "colab_type": "text"
      },
      "source": [
        "<a href=\"https://colab.research.google.com/github/richa1288/data-structure/blob/main/Binarysearchtree.ipynb\" target=\"_parent\"><img src=\"https://colab.research.google.com/assets/colab-badge.svg\" alt=\"Open In Colab\"/></a>"
      ]
    },
    {
      "cell_type": "markdown",
      "source": [
        "QUESTION 1: As a senior backend engineer at Jovian, you are tasked with developing a fast in-memory data structure to manage profile information (username, name and email) for 100 million users. It should allow the following operations to be performed efficiently:\n",
        "\n",
        "Insert the profile information for a new user.\n",
        "Find the profile information of a user, given their username\n",
        "Update the profile information of a user, given their usrname\n",
        "List all the users of the platform, sorted by username\n",
        "You can assume that usernames are unique"
      ],
      "metadata": {
        "id": "9jtTtlEp3iwL"
      }
    },
    {
      "cell_type": "code",
      "execution_count": null,
      "metadata": {
        "id": "jVe1IoV63VNC"
      },
      "outputs": [],
      "source": [
        "class User:\n",
        "    pass"
      ]
    },
    {
      "cell_type": "code",
      "source": [
        "user1 = User()\n",
        "user1\n",
        "type(user1)\n",
        "#Add User\n",
        "class User:\n",
        "    def __init__(self, username, name, email):\n",
        "        self.username = username\n",
        "        self.name = name\n",
        "        self.email = email\n",
        "        print('User created!')"
      ],
      "metadata": {
        "id": "8jpdiMpB3h4m"
      },
      "execution_count": null,
      "outputs": []
    },
    {
      "cell_type": "code",
      "source": [
        "user2 = User('john', 'John Doe', 'john@doe.com')\n",
        "user2\n",
        "user2.name\n",
        "user2.email, user2.username\n",
        "class User:\n",
        "    def __init__(self, username, name, email):\n",
        "        self.username = username\n",
        "        self.name = name\n",
        "        self.email = email\n",
        "    \n",
        "    def introduce_yourself(self, guest_name):\n",
        "        print(\"Hi {}, I'm {}! Contact me at {} .\".format(guest_name, self.name, self.email))\n",
        "user3 = User('jane', 'Jane Doe', 'jane@doe.com')\n",
        "user3.introduce_yourself('David')"
      ],
      "metadata": {
        "id": "tuv16tzq3-N-"
      },
      "execution_count": null,
      "outputs": []
    },
    {
      "cell_type": "code",
      "source": [
        "User.introduce_yourself(user3, 'David')\n",
        "class User:\n",
        "    def __init__(self, username, name, email):\n",
        "        self.username = username\n",
        "        self.name = name\n",
        "        self.email = email\n",
        "        \n",
        "    def __repr__(self):\n",
        "        return \"User(username='{}', name='{}', email='{}')\".format(self.username, self.name, self.email)\n",
        "    \n",
        "    def __str__(self):\n",
        "        return self.__repr__()\n",
        "user4 = User('jane', 'Jane Doe', 'jane@doe.com')\n",
        "user4"
      ],
      "metadata": {
        "id": "9seWl53n4Up1"
      },
      "execution_count": null,
      "outputs": []
    },
    {
      "cell_type": "code",
      "source": [
        "class UserDatabase:\n",
        "    def insert(self, user):\n",
        "        pass\n",
        "    \n",
        "    def find(self, username):\n",
        "        pass\n",
        "    \n",
        "    def update(self, user):\n",
        "        pass\n",
        "        \n",
        "    def list_all(self):\n",
        "        pass"
      ],
      "metadata": {
        "id": "OjyuLmue4ech"
      },
      "execution_count": null,
      "outputs": []
    },
    {
      "cell_type": "code",
      "source": [
        "#Let's create some sample user profiles\n",
        "aakash = User('aakash', 'Aakash Rai', 'aakash@example.com')\n",
        "biraj = User('biraj', 'Biraj Das', 'biraj@example.com')\n",
        "hemanth = User('hemanth', 'Hemanth Jain', 'hemanth@example.com')\n",
        "jadhesh = User('jadhesh', 'Jadhesh Verma', 'jadhesh@example.com')\n",
        "siddhant = User('siddhant', 'Siddhant Sinha', 'siddhant@example.com')\n",
        "sonaksh = User('sonaksh', 'Sonaksh Kumar', 'sonaksh@example.com')\n",
        "vishal = User('vishal', 'Vishal Goel', 'vishal@example.com')\n",
        "users = [aakash, biraj, hemanth, jadhesh, siddhant, sonaksh, vishal]\n",
        "\n",
        "\n",
        "biraj.username, biraj.email, biraj.name\n",
        "\n",
        "print(aakash)\n"
      ],
      "metadata": {
        "id": "y0fsYHDY4hV6"
      },
      "execution_count": null,
      "outputs": []
    },
    {
      "cell_type": "code",
      "source": [
        "users"
      ],
      "metadata": {
        "id": "YapIzgHB4yuz"
      },
      "execution_count": null,
      "outputs": []
    },
    {
      "cell_type": "code",
      "source": [
        "'biraj' < 'hemanth'"
      ],
      "metadata": {
        "id": "Jm2SFKRQ41h8"
      },
      "execution_count": null,
      "outputs": []
    },
    {
      "cell_type": "code",
      "source": [
        "class UserDatabase:\n",
        "    def __init__(self):\n",
        "        self.users = []\n",
        "    \n",
        "    def insert(self, user):\n",
        "        i = 0\n",
        "        while i < len(self.users):\n",
        "            # Find the first username greater than the new user's username\n",
        "            if self.users[i].username > user.username:\n",
        "                break\n",
        "            i += 1\n",
        "        self.users.insert(i, user)\n",
        "    \n",
        "    def find(self, username):\n",
        "        for user in self.users:\n",
        "            if user.username == username:\n",
        "                return user\n",
        "    \n",
        "    def update(self, user):\n",
        "        target = self.find(user.username)\n",
        "        target.name, target.email = user.name, user.email\n",
        "        \n",
        "    def list_all(self):\n",
        "        return self.users"
      ],
      "metadata": {
        "id": "NpU4gDkT46vx"
      },
      "execution_count": null,
      "outputs": []
    },
    {
      "cell_type": "code",
      "source": [
        "database = UserDatabase()\n",
        "database.insert(hemanth)\n",
        "database.insert(aakash)\n",
        "database.insert(siddhant)\n",
        "user = database.find('siddhant')\n",
        "user"
      ],
      "metadata": {
        "id": "ndalObg-4_9X"
      },
      "execution_count": null,
      "outputs": []
    }
  ]
}